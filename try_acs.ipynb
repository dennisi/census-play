{
 "cells": [
  {
   "cell_type": "code",
   "execution_count": 2,
   "metadata": {
    "collapsed": true
   },
   "outputs": [
    {
     "name": "stdout",
     "output_type": "stream",
     "text": [
      "Collecting census\n",
      "  Downloading census-0.7.tar.gz\n",
      "Requirement already satisfied (use --upgrade to upgrade): requests>=1.1.0 in c:\\users\\dennis\\anaconda3\\lib\\site-packages (from census)\n",
      "Collecting us>=0.7 (from census)\n",
      "  Downloading us-0.9.1.tar.gz\n",
      "Collecting jellyfish==0.5.1 (from us>=0.7->census)\n",
      "  Downloading jellyfish-0.5.1.tar.gz\n",
      "Building wheels for collected packages: census, us, jellyfish\n",
      "  Running setup.py bdist_wheel for census\n",
      "  Stored in directory: C:\\Users\\Dennis\\AppData\\Local\\pip\\Cache\\wheels\\03\\8e\\33\\88eae5740bf63b87f62b1d8be4af5d28b74629f4d8004542d9\n",
      "  Running setup.py bdist_wheel for us\n",
      "  Stored in directory: C:\\Users\\Dennis\\AppData\\Local\\pip\\Cache\\wheels\\df\\13\\bc\\d50211f358e752dd29b19f48ca3a754be20370a5e3681d8e71\n",
      "  Running setup.py bdist_wheel for jellyfish\n",
      "  Stored in directory: C:\\Users\\Dennis\\AppData\\Local\\pip\\Cache\\wheels\\f5\\bc\\a0\\bd291f78df7f71a18628b771df11d0086357579b1484db21d5\n",
      "Successfully built census us jellyfish\n",
      "Installing collected packages: jellyfish, us, census\n",
      "Successfully installed census-0.7 jellyfish-0.5.1 us-0.9.1\n"
     ]
    }
   ],
   "source": [
    "#!pip install census"
   ]
  },
  {
   "cell_type": "code",
   "execution_count": 13,
   "metadata": {
    "collapsed": false
   },
   "outputs": [],
   "source": [
    "from census import Census\n",
    "from us import states\n",
    "c = Census(\"13b9d829f08631aa95a48731ba3428d68a71b137\", year=2013)"
   ]
  },
  {
   "cell_type": "markdown",
   "metadata": {},
   "source": [
    "http://api.census.gov/data/2013/acs5/variables.html"
   ]
  },
  {
   "cell_type": "markdown",
   "metadata": {},
   "source": [
    "name? | description\n",
    "------------ | -------------\n",
    "B14001 | School Enrollment By Level of School For the Population 3 Years and Over\n",
    "B14002 | Sex By School Enrollment By Level of School By Type of School For the Population 3 Years and Over\n",
    "C14002 | School Enrollment By Level of School By Type of School For the Population 3 Years and Over\n",
    "B14003 | Sex By School Enrollment By Type of School By Age For the Population 3 Years and Over\n",
    "C14003 | School Enrollment By Type of School By Age For the Population 3 Years and Over\n",
    "B14004 | Sex By College or Graduate School Enrollment By Type of School By Age For the Population 15 Years and Over\n",
    "B14005 | Sex By School Enrollment By Educational Attainment By Employment Status For the Population 16 to 19 Years\n",
    "C14005 | Sex By School Enrollment By Educational Attainment By Employment Status For the Population 16 to 19 Years\n",
    "B14006 | Poverty Status in the Past 12 Months By School Enrollment By Level of School For the Population 3 Years and Over\n",
    "B14007 | School Enrollment By Detailed Level of School For the Population 3 Years and Over\n",
    "B14007A | School Enrollment By Detailed Level of School For the Population 3 Years and Over (White Alone)\n",
    "C14007A | School Enrollment By Detailed Level of School For the Population 3 Years and Over (White Alone)\n",
    "B14007B | School Enrollment By Detailed Level of School For the Population 3 Years and Over (Black or African American Alone)\n",
    "C14007B | School Enrollment By Detailed Level of School For the Population 3 Years and Over (Black or African American Alone)\n",
    "B14007C | School Enrollment By Detailed Level of School For the Population 3 Years and Over (American Indian and Alaska Native  Alone)\n",
    "C14007C | School Enrollment By Detailed Level of School For the Population 3 Years and Over (American Indian and Alaska Native Alone)\n",
    "B14007D | School Enrollment By Detailed Level of School For the Population 3 Years and Over (Asian Alone)\n",
    "C14007D | School Enrollment By Detailed Level of School For the Population 3 Years and Over (Asian Alone)\n",
    "B14007E | School Enrollment By Detailed Level of School For the Population 3 Years and Over (Native Hawaiian and Other Pacific Islander Alone)\n",
    "C14007E | School Enrollment By Detailed Level of School For the Population 3 Years and Over (Native Hawaiian and Other Pacific Islander Alone)\n",
    "B14007F | School Enrollment By Detailed Level of School For the Population 3 Years and Over (Some Other Race Alone)\n",
    "C14007F | School Enrollment By Detailed Level of School For the Population 3 Years and Over (Some Other Race Alone)\n",
    "B14007G | School Enrollment By Detailed Level of School For the Population 3 Years and Over (Two or More Races)\n",
    "C14007G | School Enrollment By Detailed Level of School For the Population 3 Years and Over (Two or More Races)\n",
    "B14007H | School Enrollment By Detailed Level of School For the Population 3 Years and Over (White Alone, Not Hispanic or Latino)\n",
    "C14007H | School Enrollment By Detailed Level of School For the Population 3 Years and Over (White Alone, Not Hispanic or Latino)\n",
    "B14007I | School Enrollment By Detailed Level of School For the Population 3 Years and Over (Hispanic or Latino)\n",
    "C14007I | School Enrollment By Detailed Level of School For the Population 3 Years and Over (Hispanic or Latino)"
   ]
  },
  {
   "cell_type": "code",
   "execution_count": 17,
   "metadata": {
    "collapsed": false
   },
   "outputs": [
    {
     "data": {
      "text/plain": [
       "[{'B25034_010E': '417380', 'NAME': 'Texas', 'state': '48'}]"
      ]
     },
     "execution_count": 17,
     "metadata": {},
     "output_type": "execute_result"
    }
   ],
   "source": [
    "c.acs.get(('NAME', 'B25034_010E'), {'for': 'state:%s' % states.TX.fips})"
   ]
  },
  {
   "cell_type": "code",
   "execution_count": 15,
   "metadata": {
    "collapsed": false
   },
   "outputs": [
    {
     "data": {
      "text/plain": [
       "[2013, 2011, 2012, 2010]"
      ]
     },
     "execution_count": 15,
     "metadata": {},
     "output_type": "execute_result"
    }
   ],
   "source": [
    "c.acs5.years"
   ]
  },
  {
   "cell_type": "code",
   "execution_count": 16,
   "metadata": {
    "collapsed": false
   },
   "outputs": [
    {
     "data": {
      "text/plain": [
       "[2013, 2011, 2012, 2010]"
      ]
     },
     "execution_count": 16,
     "metadata": {},
     "output_type": "execute_result"
    }
   ],
   "source": [
    "c.acs.years"
   ]
  },
  {
   "cell_type": "code",
   "execution_count": 23,
   "metadata": {
    "collapsed": false
   },
   "outputs": [
    {
     "data": {
      "text/plain": [
       "[2012]"
      ]
     },
     "execution_count": 23,
     "metadata": {},
     "output_type": "execute_result"
    }
   ],
   "source": [
    "c.acs1dp.years"
   ]
  },
  {
   "cell_type": "code",
   "execution_count": 44,
   "metadata": {
    "collapsed": false
   },
   "outputs": [
    {
     "data": {
      "text/plain": [
       "[{'B25034_009E': '7231811', 'us': '1'}]"
      ]
     },
     "execution_count": 44,
     "metadata": {},
     "output_type": "execute_result"
    }
   ],
   "source": [
    "c.acs.us('B25034_010E')"
   ]
  },
  {
   "cell_type": "code",
   "execution_count": 26,
   "metadata": {
    "collapsed": true
   },
   "outputs": [
    {
     "data": {
      "text/plain": [
       "[{'B01001_004E': '156368', 'state': '01'},\n",
       " {'B01001_004E': '26035', 'state': '02'},\n",
       " {'B01001_004E': '228431', 'state': '04'},\n",
       " {'B01001_004E': '102542', 'state': '05'},\n",
       " {'B01001_004E': '1284613', 'state': '06'},\n",
       " {'B01001_004E': '178433', 'state': '08'},\n",
       " {'B01001_004E': '111910', 'state': '09'},\n",
       " {'B01001_004E': '29093', 'state': '10'},\n",
       " {'B01001_004E': '14041', 'state': '11'},\n",
       " {'B01001_004E': '550334', 'state': '12'},\n",
       " {'B01001_004E': '358483', 'state': '13'},\n",
       " {'B01001_004E': '42663', 'state': '15'},\n",
       " {'B01001_004E': '60524', 'state': '16'},\n",
       " {'B01001_004E': '432032', 'state': '17'},\n",
       " {'B01001_004E': '227678', 'state': '18'},\n",
       " {'B01001_004E': '102258', 'state': '19'},\n",
       " {'B01001_004E': '104141', 'state': '20'},\n",
       " {'B01001_004E': '143506', 'state': '21'},\n",
       " {'B01001_004E': '157860', 'state': '22'},\n",
       " {'B01001_004E': '38189', 'state': '23'},\n",
       " {'B01001_004E': '187504', 'state': '24'},\n",
       " {'B01001_004E': '195828', 'state': '25'},\n",
       " {'B01001_004E': '323598', 'state': '26'},\n",
       " {'B01001_004E': '181328', 'state': '27'},\n",
       " {'B01001_004E': '105091', 'state': '28'},\n",
       " {'B01001_004E': '198915', 'state': '29'},\n",
       " {'B01001_004E': '32533', 'state': '30'},\n",
       " {'B01001_004E': '66812', 'state': '31'},\n",
       " {'B01001_004E': '95456', 'state': '32'},\n",
       " {'B01001_004E': '38166', 'state': '33'},\n",
       " {'B01001_004E': '283917', 'state': '34'},\n",
       " {'B01001_004E': '73240', 'state': '35'},\n",
       " {'B01001_004E': '587047', 'state': '36'},\n",
       " {'B01001_004E': '325928', 'state': '37'},\n",
       " {'B01001_004E': '21559', 'state': '38'},\n",
       " {'B01001_004E': '382573', 'state': '39'},\n",
       " {'B01001_004E': '134503', 'state': '40'},\n",
       " {'B01001_004E': '122392', 'state': '41'},\n",
       " {'B01001_004E': '385870', 'state': '42'},\n",
       " {'B01001_004E': '30381', 'state': '44'},\n",
       " {'B01001_004E': '154771', 'state': '45'},\n",
       " {'B01001_004E': '29200', 'state': '46'},\n",
       " {'B01001_004E': '208194', 'state': '47'},\n",
       " {'B01001_004E': '996977', 'state': '48'},\n",
       " {'B01001_004E': '129446', 'state': '49'},\n",
       " {'B01001_004E': '17829', 'state': '50'},\n",
       " {'B01001_004E': '262919', 'state': '51'},\n",
       " {'B01001_004E': '223893', 'state': '53'},\n",
       " {'B01001_004E': '53409', 'state': '54'},\n",
       " {'B01001_004E': '186685', 'state': '55'},\n",
       " {'B01001_004E': '19513', 'state': '56'},\n",
       " {'B01001_004E': '118964', 'state': '72'}]"
      ]
     },
     "execution_count": 26,
     "metadata": {},
     "output_type": "execute_result"
    }
   ],
   "source": [
    "c.acs.state('B01001_004E', Census.ALL)"
   ]
  },
  {
   "cell_type": "code",
   "execution_count": 45,
   "metadata": {
    "collapsed": false,
    "scrolled": false
   },
   "outputs": [
    {
     "data": {
      "text/plain": [
       "[{'B14001_001E': '299795523', 'us': '1'}]"
      ]
     },
     "execution_count": 45,
     "metadata": {},
     "output_type": "execute_result"
    }
   ],
   "source": [
    "#c.acs.fields(2013)\n",
    "#c.acs5.dataset.title()\n",
    "c.acs.us('B14001_001E')"
   ]
  },
  {
   "cell_type": "markdown",
   "metadata": {},
   "source": [
    "#### Questions, Issues:\n",
    "* Can variables be looked up via API? Or JSON? 'DEFINITIONS' \n",
    "* How can a county be picked / filtered?\n",
    "* How to query multiple states/counties?"
   ]
  },
  {
   "cell_type": "markdown",
   "metadata": {},
   "source": [
    "### Get file for 1-2 measures for all counties in Nebraska"
   ]
  },
  {
   "cell_type": "code",
   "execution_count": 54,
   "metadata": {
    "collapsed": false
   },
   "outputs": [
    {
     "name": "stdout",
     "output_type": "stream",
     "text": [
      "[{'B14001_002E': '510425', 'state': '31', 'NAME': 'Nebraska'}]\n",
      "[{'state': '31', 'NAME': 'Nebraska', 'B14001_008E': '121017'}]\n"
     ]
    }
   ],
   "source": [
    "# now for Nebraska only\n",
    "#c.acs.us('B14001_001E')\n",
    "print(c.acs5.get(('NAME', 'B14001_002E'), {'for': 'state:%s' % states.NE.fips}))\n",
    "print(c.acs5.get(('NAME', 'B14001_008E'), {'for': 'state:%s' % states.NE.fips}))"
   ]
  },
  {
   "cell_type": "code",
   "execution_count": 52,
   "metadata": {
    "collapsed": false
   },
   "outputs": [
    {
     "data": {
      "text/plain": [
       "[{'B14001_008E': '121017', 'NAME': 'Nebraska', 'state': '31'}]"
      ]
     },
     "execution_count": 52,
     "metadata": {},
     "output_type": "execute_result"
    }
   ],
   "source": [
    "# now for Lancaster County\n",
    "c.acs5.get(('NAME', 'B14001_002E'), {'for': 'state:%s' % states.NE.fips})\n",
    "c.acs5.get(('NAME', 'B14001_008E'), {'for': 'state:%s' % states.NE.fips})"
   ]
  },
  {
   "cell_type": "code",
   "execution_count": 101,
   "metadata": {
    "collapsed": false
   },
   "outputs": [
    {
     "data": {
      "text/plain": [
       "[{'B14001_002E': '1557979', 'B14001_008E': '350621', 'state': '29'},\n",
       " {'B14001_002E': '510425', 'B14001_008E': '121017', 'state': '31'}]"
      ]
     },
     "execution_count": 101,
     "metadata": {},
     "output_type": "execute_result"
    }
   ],
   "source": [
    "# retrieve multiple variables for multiple states:\n",
    "# todo: how to do with (states.NE, states.MO)?\n",
    "c.acs5.state(('B14001_002E','B14001_008E'), '31,29')\n",
    "#c.acs5.state(('B14001_002E','B14001_008E'), states.NE.fips + ',' + states.MO.fips)"
   ]
  },
  {
   "cell_type": "code",
   "execution_count": 114,
   "metadata": {
    "collapsed": false
   },
   "outputs": [
    {
     "data": {
      "text/plain": [
       "[{'B14001_002E': '8924',\n",
       "  'B14001_008E': '2744',\n",
       "  'county': '001',\n",
       "  'state': '31'},\n",
       " {'B14001_002E': '1378', 'B14001_008E': '138', 'county': '003', 'state': '31'},\n",
       " {'B14001_002E': '137', 'B14001_008E': '6', 'county': '005', 'state': '31'},\n",
       " {'B14001_002E': '180', 'B14001_008E': '52', 'county': '007', 'state': '31'},\n",
       " {'B14001_002E': '172', 'B14001_008E': '39', 'county': '009', 'state': '31'},\n",
       " {'B14001_002E': '1206', 'B14001_008E': '124', 'county': '011', 'state': '31'},\n",
       " {'B14001_002E': '2883', 'B14001_008E': '296', 'county': '013', 'state': '31'},\n",
       " {'B14001_002E': '388', 'B14001_008E': '27', 'county': '015', 'state': '31'},\n",
       " {'B14001_002E': '600', 'B14001_008E': '39', 'county': '017', 'state': '31'},\n",
       " {'B14001_002E': '15111',\n",
       "  'B14001_008E': '5865',\n",
       "  'county': '019',\n",
       "  'state': '31'},\n",
       " {'B14001_002E': '1505', 'B14001_008E': '201', 'county': '021', 'state': '31'},\n",
       " {'B14001_002E': '2044', 'B14001_008E': '244', 'county': '023', 'state': '31'},\n",
       " {'B14001_002E': '6577', 'B14001_008E': '988', 'county': '025', 'state': '31'},\n",
       " {'B14001_002E': '2163', 'B14001_008E': '248', 'county': '027', 'state': '31'},\n",
       " {'B14001_002E': '851', 'B14001_008E': '80', 'county': '029', 'state': '31'},\n",
       " {'B14001_002E': '1144', 'B14001_008E': '154', 'county': '031', 'state': '31'},\n",
       " {'B14001_002E': '2346', 'B14001_008E': '332', 'county': '033', 'state': '31'},\n",
       " {'B14001_002E': '1578', 'B14001_008E': '190', 'county': '035', 'state': '31'},\n",
       " {'B14001_002E': '2615', 'B14001_008E': '282', 'county': '037', 'state': '31'},\n",
       " {'B14001_002E': '2140', 'B14001_008E': '203', 'county': '039', 'state': '31'},\n",
       " {'B14001_002E': '2465', 'B14001_008E': '251', 'county': '041', 'state': '31'},\n",
       " {'B14001_002E': '5518', 'B14001_008E': '813', 'county': '043', 'state': '31'},\n",
       " {'B14001_002E': '2713',\n",
       "  'B14001_008E': '1460',\n",
       "  'county': '045',\n",
       "  'state': '31'},\n",
       " {'B14001_002E': '6294', 'B14001_008E': '557', 'county': '047', 'state': '31'},\n",
       " {'B14001_002E': '418', 'B14001_008E': '61', 'county': '049', 'state': '31'},\n",
       " {'B14001_002E': '1496', 'B14001_008E': '154', 'county': '051', 'state': '31'},\n",
       " {'B14001_002E': '8692',\n",
       "  'B14001_008E': '1655',\n",
       "  'county': '053',\n",
       "  'state': '31'},\n",
       " {'B14001_002E': '153146',\n",
       "  'B14001_008E': '35773',\n",
       "  'county': '055',\n",
       "  'state': '31'},\n",
       " {'B14001_002E': '381', 'B14001_008E': '37', 'county': '057', 'state': '31'},\n",
       " {'B14001_002E': '1331', 'B14001_008E': '155', 'county': '059', 'state': '31'},\n",
       " {'B14001_002E': '656', 'B14001_008E': '97', 'county': '061', 'state': '31'},\n",
       " {'B14001_002E': '662', 'B14001_008E': '193', 'county': '063', 'state': '31'},\n",
       " {'B14001_002E': '1072', 'B14001_008E': '91', 'county': '065', 'state': '31'},\n",
       " {'B14001_002E': '4963', 'B14001_008E': '711', 'county': '067', 'state': '31'},\n",
       " {'B14001_002E': '327', 'B14001_008E': '20', 'county': '069', 'state': '31'},\n",
       " {'B14001_002E': '412', 'B14001_008E': '21', 'county': '071', 'state': '31'},\n",
       " {'B14001_002E': '485', 'B14001_008E': '47', 'county': '073', 'state': '31'},\n",
       " {'B14001_002E': '179', 'B14001_008E': '54', 'county': '075', 'state': '31'},\n",
       " {'B14001_002E': '559', 'B14001_008E': '55', 'county': '077', 'state': '31'},\n",
       " {'B14001_002E': '14964',\n",
       "  'B14001_008E': '2266',\n",
       "  'county': '079',\n",
       "  'state': '31'},\n",
       " {'B14001_002E': '2315', 'B14001_008E': '174', 'county': '081', 'state': '31'},\n",
       " {'B14001_002E': '674', 'B14001_008E': '50', 'county': '083', 'state': '31'},\n",
       " {'B14001_002E': '257', 'B14001_008E': '45', 'county': '085', 'state': '31'},\n",
       " {'B14001_002E': '589', 'B14001_008E': '93', 'county': '087', 'state': '31'},\n",
       " {'B14001_002E': '2205', 'B14001_008E': '262', 'county': '089', 'state': '31'},\n",
       " {'B14001_002E': '160', 'B14001_008E': '12', 'county': '091', 'state': '31'},\n",
       " {'B14001_002E': '1497', 'B14001_008E': '215', 'county': '093', 'state': '31'},\n",
       " {'B14001_002E': '1702', 'B14001_008E': '194', 'county': '095', 'state': '31'},\n",
       " {'B14001_002E': '1020', 'B14001_008E': '100', 'county': '097', 'state': '31'},\n",
       " {'B14001_002E': '1521', 'B14001_008E': '210', 'county': '099', 'state': '31'},\n",
       " {'B14001_002E': '1581', 'B14001_008E': '222', 'county': '101', 'state': '31'},\n",
       " {'B14001_002E': '111', 'B14001_008E': '12', 'county': '103', 'state': '31'},\n",
       " {'B14001_002E': '792', 'B14001_008E': '92', 'county': '105', 'state': '31'},\n",
       " {'B14001_002E': '1877', 'B14001_008E': '143', 'county': '107', 'state': '31'},\n",
       " {'B14001_002E': '88831',\n",
       "  'B14001_008E': '32930',\n",
       "  'county': '109',\n",
       "  'state': '31'},\n",
       " {'B14001_002E': '9287',\n",
       "  'B14001_008E': '1687',\n",
       "  'county': '111',\n",
       "  'state': '31'},\n",
       " {'B14001_002E': '178', 'B14001_008E': '25', 'county': '113', 'state': '31'},\n",
       " {'B14001_002E': '145', 'B14001_008E': '11', 'county': '115', 'state': '31'},\n",
       " {'B14001_002E': '53', 'B14001_008E': '2', 'county': '117', 'state': '31'},\n",
       " {'B14001_002E': '9143',\n",
       "  'B14001_008E': '1923',\n",
       "  'county': '119',\n",
       "  'state': '31'},\n",
       " {'B14001_002E': '1800', 'B14001_008E': '252', 'county': '121', 'state': '31'},\n",
       " {'B14001_002E': '1137', 'B14001_008E': '119', 'county': '123', 'state': '31'},\n",
       " {'B14001_002E': '752', 'B14001_008E': '82', 'county': '125', 'state': '31'},\n",
       " {'B14001_002E': '2115', 'B14001_008E': '808', 'county': '127', 'state': '31'},\n",
       " {'B14001_002E': '872', 'B14001_008E': '89', 'county': '129', 'state': '31'},\n",
       " {'B14001_002E': '3629', 'B14001_008E': '506', 'county': '131', 'state': '31'},\n",
       " {'B14001_002E': '477', 'B14001_008E': '34', 'county': '133', 'state': '31'},\n",
       " {'B14001_002E': '610', 'B14001_008E': '71', 'county': '135', 'state': '31'},\n",
       " {'B14001_002E': '2127', 'B14001_008E': '164', 'county': '137', 'state': '31'},\n",
       " {'B14001_002E': '1770', 'B14001_008E': '224', 'county': '139', 'state': '31'},\n",
       " {'B14001_002E': '8338',\n",
       "  'B14001_008E': '1214',\n",
       "  'county': '141',\n",
       "  'state': '31'},\n",
       " {'B14001_002E': '1259', 'B14001_008E': '146', 'county': '143', 'state': '31'},\n",
       " {'B14001_002E': '2554', 'B14001_008E': '421', 'county': '145', 'state': '31'},\n",
       " {'B14001_002E': '1832', 'B14001_008E': '246', 'county': '147', 'state': '31'},\n",
       " {'B14001_002E': '297', 'B14001_008E': '54', 'county': '149', 'state': '31'},\n",
       " {'B14001_002E': '4276',\n",
       "  'B14001_008E': '1326',\n",
       "  'county': '151',\n",
       "  'state': '31'},\n",
       " {'B14001_002E': '50025',\n",
       "  'B14001_008E': '10388',\n",
       "  'county': '153',\n",
       "  'state': '31'},\n",
       " {'B14001_002E': '5381', 'B14001_008E': '769', 'county': '155', 'state': '31'},\n",
       " {'B14001_002E': '9586',\n",
       "  'B14001_008E': '1833',\n",
       "  'county': '157',\n",
       "  'state': '31'},\n",
       " {'B14001_002E': '5120',\n",
       "  'B14001_008E': '1792',\n",
       "  'county': '159',\n",
       "  'state': '31'},\n",
       " {'B14001_002E': '1186', 'B14001_008E': '131', 'county': '161', 'state': '31'},\n",
       " {'B14001_002E': '717', 'B14001_008E': '110', 'county': '163', 'state': '31'},\n",
       " {'B14001_002E': '240', 'B14001_008E': '33', 'county': '165', 'state': '31'},\n",
       " {'B14001_002E': '1662', 'B14001_008E': '264', 'county': '167', 'state': '31'},\n",
       " {'B14001_002E': '981', 'B14001_008E': '87', 'county': '169', 'state': '31'},\n",
       " {'B14001_002E': '132', 'B14001_008E': '15', 'county': '171', 'state': '31'},\n",
       " {'B14001_002E': '2315', 'B14001_008E': '254', 'county': '173', 'state': '31'},\n",
       " {'B14001_002E': '798', 'B14001_008E': '84', 'county': '175', 'state': '31'},\n",
       " {'B14001_002E': '5654',\n",
       "  'B14001_008E': '1221',\n",
       "  'county': '177',\n",
       "  'state': '31'},\n",
       " {'B14001_002E': '3760',\n",
       "  'B14001_008E': '2199',\n",
       "  'county': '179',\n",
       "  'state': '31'},\n",
       " {'B14001_002E': '882', 'B14001_008E': '96', 'county': '181', 'state': '31'},\n",
       " {'B14001_002E': '173', 'B14001_008E': '17', 'county': '183', 'state': '31'},\n",
       " {'B14001_002E': '3355', 'B14001_008E': '843', 'county': '185', 'state': '31'}]"
      ]
     },
     "execution_count": 114,
     "metadata": {},
     "output_type": "execute_result"
    }
   ],
   "source": [
    "c.acs5.state_county(('B14001_002E', 'B14001_008E'), states.NE.fips, Census.ALL) # len = 93"
   ]
  },
  {
   "cell_type": "code",
   "execution_count": 113,
   "metadata": {
    "collapsed": false
   },
   "outputs": [
    {
     "data": {
      "text/plain": [
       "<requests.sessions.Session at 0x4a06470>"
      ]
     },
     "execution_count": 113,
     "metadata": {},
     "output_type": "execute_result"
    }
   ],
   "source": []
  }
 ],
 "metadata": {
  "kernelspec": {
   "display_name": "Python 3",
   "language": "python",
   "name": "python3"
  },
  "language_info": {
   "codemirror_mode": {
    "name": "ipython",
    "version": 3
   },
   "file_extension": ".py",
   "mimetype": "text/x-python",
   "name": "python",
   "nbconvert_exporter": "python",
   "pygments_lexer": "ipython3",
   "version": "3.4.3"
  }
 },
 "nbformat": 4,
 "nbformat_minor": 0
}
