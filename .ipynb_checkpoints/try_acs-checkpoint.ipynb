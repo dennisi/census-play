{
 "cells": [
  {
   "cell_type": "code",
   "execution_count": 2,
   "metadata": {
    "collapsed": true
   },
   "outputs": [
    {
     "name": "stdout",
     "output_type": "stream",
     "text": [
      "Collecting census\n",
      "  Downloading census-0.7.tar.gz\n",
      "Requirement already satisfied (use --upgrade to upgrade): requests>=1.1.0 in c:\\users\\dennis\\anaconda3\\lib\\site-packages (from census)\n",
      "Collecting us>=0.7 (from census)\n",
      "  Downloading us-0.9.1.tar.gz\n",
      "Collecting jellyfish==0.5.1 (from us>=0.7->census)\n",
      "  Downloading jellyfish-0.5.1.tar.gz\n",
      "Building wheels for collected packages: census, us, jellyfish\n",
      "  Running setup.py bdist_wheel for census\n",
      "  Stored in directory: C:\\Users\\Dennis\\AppData\\Local\\pip\\Cache\\wheels\\03\\8e\\33\\88eae5740bf63b87f62b1d8be4af5d28b74629f4d8004542d9\n",
      "  Running setup.py bdist_wheel for us\n",
      "  Stored in directory: C:\\Users\\Dennis\\AppData\\Local\\pip\\Cache\\wheels\\df\\13\\bc\\d50211f358e752dd29b19f48ca3a754be20370a5e3681d8e71\n",
      "  Running setup.py bdist_wheel for jellyfish\n",
      "  Stored in directory: C:\\Users\\Dennis\\AppData\\Local\\pip\\Cache\\wheels\\f5\\bc\\a0\\bd291f78df7f71a18628b771df11d0086357579b1484db21d5\n",
      "Successfully built census us jellyfish\n",
      "Installing collected packages: jellyfish, us, census\n",
      "Successfully installed census-0.7 jellyfish-0.5.1 us-0.9.1\n"
     ]
    }
   ],
   "source": [
    "#!pip install census"
   ]
  },
  {
   "cell_type": "code",
   "execution_count": 13,
   "metadata": {
    "collapsed": false
   },
   "outputs": [],
   "source": [
    "from census import Census\n",
    "from us import states\n",
    "c = Census(\"13b9d829f08631aa95a48731ba3428d68a71b137\", year=2013)"
   ]
  },
  {
   "cell_type": "markdown",
   "metadata": {},
   "source": [
    "name? | description\n",
    "------------ | -------------\n",
    "B14001 | School Enrollment By Level of School For the Population 3 Years and Over\n",
    "B14002 | Sex By School Enrollment By Level of School By Type of School For the Population 3 Years and Over\n",
    "C14002 | School Enrollment By Level of School By Type of School For the Population 3 Years and Over\n",
    "B14003 | Sex By School Enrollment By Type of School By Age For the Population 3 Years and Over\n",
    "C14003 | School Enrollment By Type of School By Age For the Population 3 Years and Over\n",
    "B14004 | Sex By College or Graduate School Enrollment By Type of School By Age For the Population 15 Years and Over\n",
    "B14005 | Sex By School Enrollment By Educational Attainment By Employment Status For the Population 16 to 19 Years\n",
    "C14005 | Sex By School Enrollment By Educational Attainment By Employment Status For the Population 16 to 19 Years\n",
    "B14006 | Poverty Status in the Past 12 Months By School Enrollment By Level of School For the Population 3 Years and Over\n",
    "B14007 | School Enrollment By Detailed Level of School For the Population 3 Years and Over\n",
    "B14007A | School Enrollment By Detailed Level of School For the Population 3 Years and Over (White Alone)\n",
    "C14007A | School Enrollment By Detailed Level of School For the Population 3 Years and Over (White Alone)\n",
    "B14007B | School Enrollment By Detailed Level of School For the Population 3 Years and Over (Black or African American Alone)\n",
    "C14007B | School Enrollment By Detailed Level of School For the Population 3 Years and Over (Black or African American Alone)\n",
    "B14007C | School Enrollment By Detailed Level of School For the Population 3 Years and Over (American Indian and Alaska Native  Alone)\n",
    "C14007C | School Enrollment By Detailed Level of School For the Population 3 Years and Over (American Indian and Alaska Native Alone)\n",
    "B14007D | School Enrollment By Detailed Level of School For the Population 3 Years and Over (Asian Alone)\n",
    "C14007D | School Enrollment By Detailed Level of School For the Population 3 Years and Over (Asian Alone)\n",
    "B14007E | School Enrollment By Detailed Level of School For the Population 3 Years and Over (Native Hawaiian and Other Pacific Islander Alone)\n",
    "C14007E | School Enrollment By Detailed Level of School For the Population 3 Years and Over (Native Hawaiian and Other Pacific Islander Alone)\n",
    "B14007F | School Enrollment By Detailed Level of School For the Population 3 Years and Over (Some Other Race Alone)\n",
    "C14007F | School Enrollment By Detailed Level of School For the Population 3 Years and Over (Some Other Race Alone)\n",
    "B14007G | School Enrollment By Detailed Level of School For the Population 3 Years and Over (Two or More Races)\n",
    "C14007G | School Enrollment By Detailed Level of School For the Population 3 Years and Over (Two or More Races)\n",
    "B14007H | School Enrollment By Detailed Level of School For the Population 3 Years and Over (White Alone, Not Hispanic or Latino)\n",
    "C14007H | School Enrollment By Detailed Level of School For the Population 3 Years and Over (White Alone, Not Hispanic or Latino)\n",
    "B14007I | School Enrollment By Detailed Level of School For the Population 3 Years and Over (Hispanic or Latino)\n",
    "C14007I | School Enrollment By Detailed Level of School For the Population 3 Years and Over (Hispanic or Latino)"
   ]
  },
  {
   "cell_type": "code",
   "execution_count": 17,
   "metadata": {
    "collapsed": false
   },
   "outputs": [
    {
     "data": {
      "text/plain": [
       "[{'B25034_010E': '417380', 'NAME': 'Texas', 'state': '48'}]"
      ]
     },
     "execution_count": 17,
     "metadata": {},
     "output_type": "execute_result"
    }
   ],
   "source": [
    "c.acs.get(('NAME', 'B25034_010E'), {'for': 'state:%s' % states.TX.fips})"
   ]
  },
  {
   "cell_type": "code",
   "execution_count": 15,
   "metadata": {
    "collapsed": false
   },
   "outputs": [
    {
     "data": {
      "text/plain": [
       "[2013, 2011, 2012, 2010]"
      ]
     },
     "execution_count": 15,
     "metadata": {},
     "output_type": "execute_result"
    }
   ],
   "source": [
    "c.acs5.years"
   ]
  },
  {
   "cell_type": "code",
   "execution_count": 16,
   "metadata": {
    "collapsed": false
   },
   "outputs": [
    {
     "data": {
      "text/plain": [
       "[2013, 2011, 2012, 2010]"
      ]
     },
     "execution_count": 16,
     "metadata": {},
     "output_type": "execute_result"
    }
   ],
   "source": [
    "c.acs.years"
   ]
  },
  {
   "cell_type": "code",
   "execution_count": 23,
   "metadata": {
    "collapsed": false
   },
   "outputs": [
    {
     "data": {
      "text/plain": [
       "[2012]"
      ]
     },
     "execution_count": 23,
     "metadata": {},
     "output_type": "execute_result"
    }
   ],
   "source": [
    "c.acs1dp.years"
   ]
  },
  {
   "cell_type": "code",
   "execution_count": 24,
   "metadata": {
    "collapsed": false
   },
   "outputs": [
    {
     "data": {
      "text/plain": [
       "[{'B25034_010E': '17792390', 'us': '1'}]"
      ]
     },
     "execution_count": 24,
     "metadata": {},
     "output_type": "execute_result"
    }
   ],
   "source": [
    "c.acs.us('B25034_010E')"
   ]
  },
  {
   "cell_type": "code",
   "execution_count": 25,
   "metadata": {
    "collapsed": false
   },
   "outputs": [
    {
     "data": {
      "text/plain": [
       "[{'B01001_004E': '156368', 'state': '01'},\n",
       " {'B01001_004E': '26035', 'state': '02'},\n",
       " {'B01001_004E': '228431', 'state': '04'},\n",
       " {'B01001_004E': '102542', 'state': '05'},\n",
       " {'B01001_004E': '1284613', 'state': '06'},\n",
       " {'B01001_004E': '178433', 'state': '08'},\n",
       " {'B01001_004E': '111910', 'state': '09'},\n",
       " {'B01001_004E': '29093', 'state': '10'},\n",
       " {'B01001_004E': '14041', 'state': '11'},\n",
       " {'B01001_004E': '550334', 'state': '12'},\n",
       " {'B01001_004E': '358483', 'state': '13'},\n",
       " {'B01001_004E': '42663', 'state': '15'},\n",
       " {'B01001_004E': '60524', 'state': '16'},\n",
       " {'B01001_004E': '432032', 'state': '17'},\n",
       " {'B01001_004E': '227678', 'state': '18'},\n",
       " {'B01001_004E': '102258', 'state': '19'},\n",
       " {'B01001_004E': '104141', 'state': '20'},\n",
       " {'B01001_004E': '143506', 'state': '21'},\n",
       " {'B01001_004E': '157860', 'state': '22'},\n",
       " {'B01001_004E': '38189', 'state': '23'},\n",
       " {'B01001_004E': '187504', 'state': '24'},\n",
       " {'B01001_004E': '195828', 'state': '25'},\n",
       " {'B01001_004E': '323598', 'state': '26'},\n",
       " {'B01001_004E': '181328', 'state': '27'},\n",
       " {'B01001_004E': '105091', 'state': '28'},\n",
       " {'B01001_004E': '198915', 'state': '29'},\n",
       " {'B01001_004E': '32533', 'state': '30'},\n",
       " {'B01001_004E': '66812', 'state': '31'},\n",
       " {'B01001_004E': '95456', 'state': '32'},\n",
       " {'B01001_004E': '38166', 'state': '33'},\n",
       " {'B01001_004E': '283917', 'state': '34'},\n",
       " {'B01001_004E': '73240', 'state': '35'},\n",
       " {'B01001_004E': '587047', 'state': '36'},\n",
       " {'B01001_004E': '325928', 'state': '37'},\n",
       " {'B01001_004E': '21559', 'state': '38'},\n",
       " {'B01001_004E': '382573', 'state': '39'},\n",
       " {'B01001_004E': '134503', 'state': '40'},\n",
       " {'B01001_004E': '122392', 'state': '41'},\n",
       " {'B01001_004E': '385870', 'state': '42'},\n",
       " {'B01001_004E': '30381', 'state': '44'},\n",
       " {'B01001_004E': '154771', 'state': '45'},\n",
       " {'B01001_004E': '29200', 'state': '46'},\n",
       " {'B01001_004E': '208194', 'state': '47'},\n",
       " {'B01001_004E': '996977', 'state': '48'},\n",
       " {'B01001_004E': '129446', 'state': '49'},\n",
       " {'B01001_004E': '17829', 'state': '50'},\n",
       " {'B01001_004E': '262919', 'state': '51'},\n",
       " {'B01001_004E': '223893', 'state': '53'},\n",
       " {'B01001_004E': '53409', 'state': '54'},\n",
       " {'B01001_004E': '186685', 'state': '55'},\n",
       " {'B01001_004E': '19513', 'state': '56'},\n",
       " {'B01001_004E': '118964', 'state': '72'}]"
      ]
     },
     "execution_count": 25,
     "metadata": {},
     "output_type": "execute_result"
    }
   ],
   "source": [
    "c.acs.state('B01001_004E', Census.ALL)"
   ]
  }
 ],
 "metadata": {
  "kernelspec": {
   "display_name": "Python 3",
   "language": "python",
   "name": "python3"
  },
  "language_info": {
   "codemirror_mode": {
    "name": "ipython",
    "version": 3
   },
   "file_extension": ".py",
   "mimetype": "text/x-python",
   "name": "python",
   "nbconvert_exporter": "python",
   "pygments_lexer": "ipython3",
   "version": "3.4.3"
  }
 },
 "nbformat": 4,
 "nbformat_minor": 0
}
